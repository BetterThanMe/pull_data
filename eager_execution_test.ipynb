{
  "nbformat": 4,
  "nbformat_minor": 0,
  "metadata": {
    "colab": {
      "name": "eager_execution_test",
      "provenance": [],
      "collapsed_sections": [],
      "authorship_tag": "ABX9TyNLS96MPWd5sih93bathmCt",
      "include_colab_link": true
    },
    "kernelspec": {
      "name": "python3",
      "display_name": "Python 3"
    },
    "accelerator": "GPU"
  },
  "cells": [
    {
      "cell_type": "markdown",
      "metadata": {
        "id": "view-in-github",
        "colab_type": "text"
      },
      "source": [
        "<a href=\"https://colab.research.google.com/github/BetterThanMe/pull_data/blob/master/eager_execution_test.ipynb\" target=\"_parent\"><img src=\"https://colab.research.google.com/assets/colab-badge.svg\" alt=\"Open In Colab\"/></a>"
      ]
    },
    {
      "cell_type": "code",
      "metadata": {
        "id": "gJpvBmjZ4ljW",
        "colab_type": "code",
        "colab": {}
      },
      "source": [
        "import tensorflow as tf"
      ],
      "execution_count": 1,
      "outputs": []
    },
    {
      "cell_type": "markdown",
      "metadata": {
        "id": "tB4Umo2_Nbx1",
        "colab_type": "text"
      },
      "source": [
        ""
      ]
    },
    {
      "cell_type": "code",
      "metadata": {
        "id": "b_ry4FW15BEp",
        "colab_type": "code",
        "colab": {
          "base_uri": "https://localhost:8080/",
          "height": 72
        },
        "outputId": "be00bc84-ded5-429b-a585-5ca0c18a45fd"
      },
      "source": [
        "(mnist_images, mnist_labels),_ = tf.keras.datasets.mnist.load_data()\n",
        "\n",
        "dataset = tf.data.Dataset.from_tensor_slices(\n",
        "    (tf.cast(mnist_images[...,tf.newaxis]/255, tf.float32), \n",
        "    tf.cast(mnist_labels, tf.int64)))\n",
        "dataset = dataset.shuffle(1000, reshuffle_each_iteration = True).batch(32)"
      ],
      "execution_count": 2,
      "outputs": [
        {
          "output_type": "stream",
          "text": [
            "Downloading data from https://storage.googleapis.com/tensorflow/tf-keras-datasets/mnist.npz\n",
            "11493376/11490434 [==============================] - 0s 0us/step\n"
          ],
          "name": "stdout"
        }
      ]
    },
    {
      "cell_type": "code",
      "metadata": {
        "id": "n2hKzuIW84f5",
        "colab_type": "code",
        "colab": {}
      },
      "source": [
        "#Build a model\n",
        "mnist_model = tf.keras.Sequential([\n",
        "    tf.keras.layers.Conv2D(16, [3,3], activation='relu', input_shape = (None, None, 1)),\n",
        "    tf.keras.layers.Conv2D(16, [3,3], activation= 'relu'),\n",
        "    tf.keras.layers.GlobalMaxPool2D(),\n",
        "    tf.keras.layers.Dense(10)\n",
        "])"
      ],
      "execution_count": 3,
      "outputs": []
    },
    {
      "cell_type": "code",
      "metadata": {
        "id": "2wSYzlcp-SVK",
        "colab_type": "code",
        "colab": {}
      },
      "source": [
        "optimizer = tf.keras.optimizers.Adam()\n",
        "loss_object = tf.keras.losses.SparseCategoricalCrossentropy(from_logits=True)\n",
        "loss_history =[]"
      ],
      "execution_count": 4,
      "outputs": []
    },
    {
      "cell_type": "code",
      "metadata": {
        "id": "pALA4tIY__11",
        "colab_type": "code",
        "colab": {}
      },
      "source": [
        "def train_step(images, labels):\n",
        "    with tf.GradientTape() as tape:\n",
        "        logits = mnist_model(images, training = True)\n",
        "\n",
        "        tf.debugging.assert_equal(logits.shape, (32,10))\n",
        "\n",
        "        loss_value = loss_object(labels, logits)\n",
        "\n",
        "    loss_history.append(loss_value.numpy().mean())\n",
        "    grads = tape.gradient(loss_value, mnist_model.trainable_variables)\n",
        "    optimizer.apply_gradients(zip(grads, mnist_model.trainable_variables))\n",
        "    return loss_history[-1]"
      ],
      "execution_count": 9,
      "outputs": []
    },
    {
      "cell_type": "code",
      "metadata": {
        "id": "-iCui-AtE58V",
        "colab_type": "code",
        "colab": {
          "base_uri": "https://localhost:8080/",
          "height": 194
        },
        "outputId": "6bb236cf-8bb5-4455-a38c-b5294412b78c"
      },
      "source": [
        "def train(epochs):\n",
        "    for epoch in range(epochs):\n",
        "        for (batch, (images, labels)) in enumerate(dataset):\n",
        "            loss_epoch = train_step(images, labels)\n",
        "        print(f'Epoch {epoch}: {loss_epoch}')\n",
        "train(10)"
      ],
      "execution_count": 10,
      "outputs": [
        {
          "output_type": "stream",
          "text": [
            "Epoch 0: 0.3400680422782898\n",
            "Epoch 1: 0.2501682937145233\n",
            "Epoch 2: 0.2426231950521469\n",
            "Epoch 3: 0.50357985496521\n",
            "Epoch 4: 0.18465369939804077\n",
            "Epoch 5: 0.22177234292030334\n",
            "Epoch 6: 0.6640312671661377\n",
            "Epoch 7: 0.1400986611843109\n",
            "Epoch 8: 0.31814491748809814\n",
            "Epoch 9: 0.3717794418334961\n"
          ],
          "name": "stdout"
        }
      ]
    },
    {
      "cell_type": "code",
      "metadata": {
        "id": "RmR1248wOdJd",
        "colab_type": "code",
        "colab": {
          "base_uri": "https://localhost:8080/",
          "height": 278
        },
        "outputId": "f1259f0e-e396-43d3-ec39-3469ceaf7a84"
      },
      "source": [
        "import matplotlib.pyplot as plt\n",
        "\n",
        "plt.plot(loss_history)\n",
        "plt.xlabel('Batch #')\n",
        "plt.ylabel('Loss - entropy')\n",
        "plt.show()\n"
      ],
      "execution_count": 11,
      "outputs": [
        {
          "output_type": "display_data",
          "data": {
            "image/png": "[encoded data removed]",
            "text/plain": [
              "<Figure size 432x288 with 1 Axes>"
            ]
          },
          "metadata": {
            "tags": [],
            "needs_background": "light"
          }
        }
      ]
    },
    {
      "cell_type": "markdown",
      "metadata": {
        "id": "G97cKG1AoYdo",
        "colab_type": "text"
      },
      "source": [
        "# ***New example for linear, deeper ascess to tf.Variable***"
      ]
    },
    {
      "cell_type": "code",
      "metadata": {
        "id": "LpSm7r76oXtH",
        "colab_type": "code",
        "colab": {}
      },
      "source": [
        "import tensorflow as tf\n",
        "\n",
        "class Linear(tf.keras.Model):\n",
        "      def __init__(self):\n",
        "          super(Linear, self).__init__()\n",
        "          self.W = tf.Variable(5., name = 'weight', trainable= True)\n",
        "          self.B = tf.Variable(1., name = 'bias', trainable = True)\n",
        "      def __call__(self, inputs):\n",
        "          return inputs*self.W + self.B\n",
        "\n"
      ],
      "execution_count": 2,
      "outputs": []
    },
    {
      "cell_type": "code",
      "metadata": {
        "id": "G2rYRhuEpXx4",
        "colab_type": "code",
        "colab": {}
      },
      "source": [
        "Num_egs = 2000\n",
        "train_inputs = tf.random.normal([Num_egs])\n",
        "noise = tf.random.normal([Num_egs])\n",
        "train_outputs = train_inputs*3 + 2 + noise"
      ],
      "execution_count": 3,
      "outputs": []
    },
    {
      "cell_type": "code",
      "metadata": {
        "id": "eItunDe5p_xX",
        "colab_type": "code",
        "colab": {}
      },
      "source": [
        "def loss(model, inputs, targets):\n",
        "    error = model(inputs) - targets\n",
        "    return tf.reduce_mean(tf.square(error))\n",
        "\n",
        "def grad(model, inputs, targets):\n",
        "    with tf.GradientTape() as tape:\n",
        "        loss_value = loss(model, inputs, targets)\n",
        "    return tape.gradient(loss_value, model.trainable_variables), loss_value\n"
      ],
      "execution_count": 7,
      "outputs": []
    },
    {
      "cell_type": "code",
      "metadata": {
        "id": "6q4aFdP3rcRN",
        "colab_type": "code",
        "colab": {
          "base_uri": "https://localhost:8080/",
          "height": 212
        },
        "outputId": "ab48d9f0-a703-46e1-c052-214acca85720"
      },
      "source": [
        "import os\n",
        "model = Linear()\n",
        "optimizer = tf.keras.optimizers.SGD(learning_rate= 0.01)\n",
        "\n",
        "print('Initial loss = ',loss(model, train_inputs, train_outputs))\n",
        "\n",
        "steps = 400\n",
        "loss_history = []\n",
        "\n",
        "checkpoint_dir = './'\n",
        "root = tf.train.Checkpoint(optimizer = optimizer, model = model)\n",
        "\n",
        "checkpoint_prefix  = os.path.join(checkpoint_dir, 'ckpt')\n",
        "root.save(checkpoint_prefix)\n",
        "\n",
        "for i in range(steps):\n",
        "    grads, loss_value = grad(model, train_inputs, train_outputs)\n",
        "    loss_history.append(loss_value)\n",
        "    optimizer.apply_gradients(zip(grads, model.trainable_variables))\n",
        "    if i%40 == 0:\n",
        "        print(f'At step {i//40}, loss = {loss_value}')\n",
        "        checkpoint_prefix  = os.path.join(checkpoint_dir, 'ckpt'+str(i//40))\n",
        "\n",
        "    root.save(checkpoint_prefix)\n",
        "\n",
        "    "
      ],
      "execution_count": 36,
      "outputs": [
        {
          "output_type": "stream",
          "text": [
            "Initial loss =  tf.Tensor(6.198461, shape=(), dtype=float32)\n",
            "At step 0, loss = 6.198461055755615\n",
            "At step 1, loss = 1.9916844367980957\n",
            "At step 2, loss = 1.1723103523254395\n",
            "At step 3, loss = 1.0127116441726685\n",
            "At step 4, loss = 0.9816240072250366\n",
            "At step 5, loss = 0.9755683541297913\n",
            "At step 6, loss = 0.9743886590003967\n",
            "At step 7, loss = 0.9741589426994324\n",
            "At step 8, loss = 0.9741140604019165\n",
            "At step 9, loss = 0.9741054773330688\n"
          ],
          "name": "stdout"
        }
      ]
    }
  ]
}